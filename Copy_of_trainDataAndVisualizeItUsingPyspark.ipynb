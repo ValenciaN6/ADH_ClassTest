{
  "nbformat": 4,
  "nbformat_minor": 0,
  "metadata": {
    "colab": {
      "provenance": [],
      "authorship_tag": "ABX9TyPxv0wX3YtuO0pH1TM/LmDt",
      "include_colab_link": true
    },
    "kernelspec": {
      "name": "python3",
      "display_name": "Python 3"
    },
    "language_info": {
      "name": "python"
    }
  },
  "cells": [
    {
      "cell_type": "markdown",
      "metadata": {
        "id": "view-in-github",
        "colab_type": "text"
      },
      "source": [
        "<a href=\"https://colab.research.google.com/github/ValenciaN6/ADH_ClassTest/blob/master/Copy_of_trainDataAndVisualizeItUsingPyspark.ipynb\" target=\"_parent\"><img src=\"https://colab.research.google.com/assets/colab-badge.svg\" alt=\"Open In Colab\"/></a>"
      ]
    },
    {
      "cell_type": "code",
      "execution_count": null,
      "metadata": {
        "id": "oOxYfmJWptOG"
      },
      "outputs": [],
      "source": [
        "from pyspark.sql import SparkSession\n",
        "from pyspark.ml.feature import VectorAssembler, StandardScaler\n",
        "#from pyspark.ml.regression import LinearRegression\n",
        "#from pyspark.ml.evaluation import RegressionEvaluator\n",
        "from pyspark.sql.functions import when, col\n",
        "from pyspark.ml.classification import LinearSVC, LinearSVCModel\n",
        "from pyspark.ml import Pipeline\n",
        "from pyspark.ml.tuning import ParamGridBuilder\n",
        "from pyspark.ml.tuning import CrossValidator\n",
        "from pyspark.ml.evaluation import BinaryClassificationEvaluator\n",
        "from pyspark.ml.evaluation import MulticlassClassificationEvaluator\n",
        "\n",
        "# create pyspark session\n",
        "\n",
        "spark = SparkSession.builder \\\n",
        "    .appName(\"Breast cancer\") \\\n",
        "    .getOrCreate()\n",
        "\n",
        "# load data\n",
        "filePath = \"/Users/valenciamagagane/Documents/pythond/breast-cancer.csv\"\n",
        "data = spark.read.csv(filePath, header=True, inferSchema=True)\n",
        "\n",
        "data.show(5)\n",
        "data.printSchema()\n",
        "\n",
        "\n",
        "\n",
        "\n",
        "\n",
        "\n",
        "\n"
      ]
    },
    {
      "cell_type": "code",
      "source": [
        "# drop unneccessary data\n",
        "\n",
        "drop_cols = [c for c in data.columns if c.lower() == 'id']\n",
        "data = data.drop(*drop_cols)\n",
        "\n",
        "data = data.withColumn('label', when(col('diagnosis')=='M', 1.0).otherwise(0.0))\n",
        "\n",
        "feature_cols = [c for c , t in data.dtypes if t in ('int','double','float') and c not in ('label','diagnosis')]\n"
      ],
      "metadata": {
        "id": "ROUr4xZTp2aq"
      },
      "execution_count": null,
      "outputs": []
    },
    {
      "cell_type": "code",
      "source": [
        "#assemble features into on vector\n",
        "\n",
        "assembler = VectorAssembler(inputCols=feature_cols,outputCol='feature_unscaled')\n",
        "\n",
        "scaler = StandardScaler(inputCol='feature_unscaled',outputCol='features',withMean=True,withStd=True)\n",
        "\n",
        "svc = LinearSVC(featuresCol='features',labelCol='label',maxIter=100)\n",
        "\n",
        "pipeline = Pipeline(stages=[assembler,scaler,svc])"
      ],
      "metadata": {
        "id": "6eQxkYovp3Zt"
      },
      "execution_count": null,
      "outputs": []
    },
    {
      "cell_type": "code",
      "source": [
        "#train data\n",
        "\n",
        "train, test = data.randomSplit([0.8,0.2],seed=42)"
      ],
      "metadata": {
        "id": "8ErR-7meqBtk"
      },
      "execution_count": null,
      "outputs": []
    },
    {
      "cell_type": "code",
      "source": [
        "#grid\n",
        "grid = ParamGridBuilder().addGrid(svc.regParam, [0.001, 0.01, 0.1, 1.0]).addGrid(svc.maxIter, [50,100]).build()\n"
      ],
      "metadata": {
        "id": "sNnzlyj7qCsF"
      },
      "execution_count": null,
      "outputs": []
    },
    {
      "cell_type": "code",
      "source": [
        "#evaluation\n",
        "evaluator = BinaryClassificationEvaluator(labelCol='label',metricName='areaUnderROC')\n",
        "\n",
        "\n",
        "cv = CrossValidator(estimator=pipeline,\n",
        "                    estimatorParamMaps=grid,\n",
        "                    evaluator=evaluator,\n",
        "                    numFolds=5,\n",
        "                    parallelism=2)\n",
        "\n",
        "cvModel = cv.fit(train)\n",
        "\n",
        "bestModel = cvModel.bestModel\n",
        "bestSVC = [s for s in bestModel.stages if isinstance(s,LinearSVCModel)][0]\n",
        "\n",
        "\n",
        "print(\"Best regParam:\", bestSVC.getRegParam())\n",
        "print(\"Best maxIter:\", bestSVC.getMaxIter())\n",
        "\n",
        "predictions = bestModel.transform(test)\n",
        "predictions.select(\"label\", \"prediction\", \"rawPrediction\").show(10, truncate=False)\n",
        "\n",
        "\n",
        "# compute evaluation metrics\n",
        "auc = evaluator.evaluate(predictions)\n",
        "acc = MulticlassClassificationEvaluator(labelCol=\"label\", predictionCol=\"prediction\", metricName=\"accuracy\").evaluate(predictions)\n",
        "prec = MulticlassClassificationEvaluator(labelCol=\"label\", predictionCol=\"prediction\", metricName=\"weightedPrecision\").evaluate(predictions)\n",
        "rec = MulticlassClassificationEvaluator(labelCol=\"label\", predictionCol=\"prediction\", metricName=\"weightedRecall\").evaluate(predictions)\n",
        "f1 = MulticlassClassificationEvaluator(labelCol=\"label\", predictionCol=\"prediction\", metricName=\"f1\").evaluate(predictions)\n",
        "\n",
        "print(f\"AUC: {auc:.4f}, Accuracy: {acc:.4f}, Precision: {prec:.4f}, Recall: {rec:.4f}, F1: {f1:.4f}\")\n",
        "\n",
        "\n",
        "spark.stop()"
      ],
      "metadata": {
        "id": "MM0Tv5QFqLyV"
      },
      "execution_count": null,
      "outputs": []
    }
  ]
}